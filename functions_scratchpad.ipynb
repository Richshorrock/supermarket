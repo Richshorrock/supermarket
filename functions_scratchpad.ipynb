{
 "cells": [
  {
   "cell_type": "code",
   "execution_count": 2,
   "metadata": {},
   "outputs": [],
   "source": [
    "my_dict = {'price': [1,2,4,5,6,7,8]}\n",
    "\n",
    "basket = []"
   ]
  },
  {
   "cell_type": "code",
   "execution_count": 3,
   "metadata": {},
   "outputs": [
    {
     "name": "stdout",
     "output_type": "stream",
     "text": [
      "this is filler idk if this is even on the right track\n",
      "this is filler idk if this is even on the right track\n",
      "this is filler idk if this is even on the right track\n",
      "this is filler idk if this is even on the right track\n",
      "this is filler idk if this is even on the right track\n",
      "this is filler idk if this is even on the right track\n",
      "this is filler idk if this is even on the right track\n"
     ]
    }
   ],
   "source": [
    "\n",
    "for i in my_dict['price']:\n",
    "    if my_dict['price'] == 'dairy':\n",
    "        basket\n",
    "    elif my_dict['price'] == 'drinks':\n",
    "        basket \n",
    "    else:\n",
    "        print('this is filler idk if this is even on the right track')\n",
    "        "
   ]
  },
  {
   "cell_type": "code",
   "execution_count": 4,
   "metadata": {},
   "outputs": [],
   "source": [
    "import random\n",
    "\n",
    "def add_random_int(basket,my_dict):\n",
    "    random_key = random.choice(list(my_dict.keys()))\n",
    "    random_list = my_dict[random_key]\n",
    "    random_value = random.choice(random_list)\n",
    "    basket.append(random_value)\n",
    "    return basket"
   ]
  },
  {
   "cell_type": "code",
   "execution_count": 5,
   "metadata": {},
   "outputs": [
    {
     "name": "stdout",
     "output_type": "stream",
     "text": [
      "[5]\n"
     ]
    }
   ],
   "source": [
    "result = add_random_int(basket, my_dict)\n",
    "print(result)"
   ]
  },
  {
   "cell_type": "code",
   "execution_count": 6,
   "metadata": {},
   "outputs": [],
   "source": [
    "class Customer:\n",
    "    def __init__(self,location, basket, markov):\n",
    "        self.location = location\n",
    "        self.basket = basket\n",
    "        self.markov = markov\n",
    "    "
   ]
  },
  {
   "cell_type": "code",
   "execution_count": 1,
   "metadata": {},
   "outputs": [],
   "source": [
    "#I think I need aisle, the other 2 might be filler\n",
    "aisle = ['dairy', 'spices', 'fruit', 'drinks', 'checkout']\n",
    "revenue = []\n",
    "profit = []"
   ]
  },
  {
   "cell_type": "code",
   "execution_count": 2,
   "metadata": {},
   "outputs": [],
   "source": [
    "#this is all a guess, the aisle needs to interact with customer, and the revenue calcs are probably not that simple\n",
    "class Supermarket:\n",
    "    def __init__(self, aisle,basket_size, checkout_calc):\n",
    "        self.aisle = aisle\n",
    "        self.checkout_calc = checkout_calc\n",
    "        self.profit = profit\n",
    "        self.basket_size = basket_size\n",
    "        \n",
    "    my_rev = {'revenue': [], 'customer_num': []} \n",
    "    my_rev['revenue'].append()\n",
    "    my_rev['customer_num'].append()\n",
    "    total_revenue, num_individual_revenues = sum_list(revenue_list) #maybe this?\n",
    "    def checkout_calc(self):\n",
    "        revenue = sum(basket_size)#how does it call this from the actual customer no?\n",
    "        \n",
    "        profit = sum(basket_size) * 0.3\n",
    "        return total, len(basket_size)\n",
    "        revenue_total = #I actually don't even know what to call this. it needs to call all the revenues of all the customers\n",
    "        #maybe I have revenue go to a separate list to sum?\n",
    "            "
   ]
  },
  {
   "cell_type": "code",
   "execution_count": 9,
   "metadata": {},
   "outputs": [],
   "source": [
    "class Supermarket:    \n",
    "    \n",
    "#product_dictionaries\n",
    "    dairy_products = {\"dairy_retail_price\": [2, 3, 5]}\n",
    "    spice_products = {\"spice_retail_price\": [1, 2, 3]}\n",
    "    fruit_products = {\"fruit_retail_price\": [1, 3, 6]}\n",
    "    drink_products = {\"drink_retail_price\": [2, 5, 10]}\n",
    "    "
   ]
  }
 ],
 "metadata": {
  "kernelspec": {
   "display_name": "Python 3",
   "language": "python",
   "name": "python3"
  },
  "language_info": {
   "codemirror_mode": {
    "name": "ipython",
    "version": 3
   },
   "file_extension": ".py",
   "mimetype": "text/x-python",
   "name": "python",
   "nbconvert_exporter": "python",
   "pygments_lexer": "ipython3",
   "version": "3.11.2"
  },
  "orig_nbformat": 4
 },
 "nbformat": 4,
 "nbformat_minor": 2
}
