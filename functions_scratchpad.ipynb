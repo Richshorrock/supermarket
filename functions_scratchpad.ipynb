{
 "cells": [
  {
   "cell_type": "code",
   "execution_count": 20,
   "metadata": {},
   "outputs": [],
   "source": [
    "my_dict = {'price': [1,2,4,5,6,7,8]}\n",
    "\n",
    "basket = []"
   ]
  },
  {
   "cell_type": "code",
   "execution_count": 21,
   "metadata": {},
   "outputs": [
    {
     "name": "stdout",
     "output_type": "stream",
     "text": [
      "this is filler idk if this is even on the right track\n",
      "this is filler idk if this is even on the right track\n",
      "this is filler idk if this is even on the right track\n",
      "this is filler idk if this is even on the right track\n",
      "this is filler idk if this is even on the right track\n",
      "this is filler idk if this is even on the right track\n",
      "this is filler idk if this is even on the right track\n"
     ]
    }
   ],
   "source": [
    "\n",
    "for i in my_dict['price']:\n",
    "    if my_dict['price'] == 'dairy':\n",
    "        basket\n",
    "    elif my_dict['price'] == 'drinks':\n",
    "        basket \n",
    "    else:\n",
    "        print('this is filler idk if this is even on the right track')\n",
    "        "
   ]
  },
  {
   "cell_type": "code",
   "execution_count": 29,
   "metadata": {},
   "outputs": [],
   "source": [
    "import random\n",
    "\n",
    "def add_random_int(basket,my_dict):\n",
    "    random_key = random.choice(list(my_dict.keys()))\n",
    "    random_list = my_dict[random_key]\n",
    "    random_value = random.choice(random_list)\n",
    "    basket.append(random_value)\n",
    "    return basket"
   ]
  },
  {
   "cell_type": "code",
   "execution_count": 30,
   "metadata": {},
   "outputs": [],
   "source": [
    "result = add_random_int(basket, my_dict)"
   ]
  },
  {
   "cell_type": "code",
   "execution_count": 31,
   "metadata": {},
   "outputs": [
    {
     "name": "stdout",
     "output_type": "stream",
     "text": [
      "[2, 5, 2]\n"
     ]
    }
   ],
   "source": [
    "print(result)"
   ]
  },
  {
   "cell_type": "code",
   "execution_count": null,
   "metadata": {},
   "outputs": [],
   "source": []
  }
 ],
 "metadata": {
  "kernelspec": {
   "display_name": "Python 3",
   "language": "python",
   "name": "python3"
  },
  "language_info": {
   "codemirror_mode": {
    "name": "ipython",
    "version": 3
   },
   "file_extension": ".py",
   "mimetype": "text/x-python",
   "name": "python",
   "nbconvert_exporter": "python",
   "pygments_lexer": "ipython3",
   "version": "3.11.2"
  },
  "orig_nbformat": 4
 },
 "nbformat": 4,
 "nbformat_minor": 2
}
