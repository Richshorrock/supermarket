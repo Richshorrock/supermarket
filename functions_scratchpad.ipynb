{
 "cells": [
  {
   "cell_type": "code",
   "execution_count": 1,
   "metadata": {},
   "outputs": [],
   "source": [
    "import random\n",
    "import numpy as np"
   ]
  },
  {
   "cell_type": "code",
   "execution_count": 2,
   "metadata": {},
   "outputs": [],
   "source": [
    "my_dict = {'price': [1,2,4,5,6,7,8]}\n",
    "\n",
    "basket = []"
   ]
  },
  {
   "cell_type": "code",
   "execution_count": 3,
   "metadata": {},
   "outputs": [
    {
     "name": "stdout",
     "output_type": "stream",
     "text": [
      "this is filler idk if this is even on the right track\n",
      "this is filler idk if this is even on the right track\n",
      "this is filler idk if this is even on the right track\n",
      "this is filler idk if this is even on the right track\n",
      "this is filler idk if this is even on the right track\n",
      "this is filler idk if this is even on the right track\n",
      "this is filler idk if this is even on the right track\n"
     ]
    }
   ],
   "source": [
    "\n",
    "for i in my_dict['price']:\n",
    "    if my_dict['price'] == 'dairy':\n",
    "        basket\n",
    "    elif my_dict['price'] == 'drinks':\n",
    "        basket \n",
    "    else:\n",
    "        print('this is filler idk if this is even on the right track')\n",
    "     \n",
    "        "
   ]
  },
  {
   "cell_type": "code",
   "execution_count": 4,
   "metadata": {},
   "outputs": [],
   "source": [
    "import random\n",
    "\n",
    "def add_random_int(basket,my_dict):\n",
    "    random_key = random.choice(list(my_dict.keys()))\n",
    "    random_list = my_dict[random_key]\n",
    "    random_value = random.choice(random_list)\n",
    "    basket.append(random_value)\n",
    "    return basket"
   ]
  },
  {
   "cell_type": "code",
   "execution_count": 5,
   "metadata": {},
   "outputs": [
    {
     "name": "stdout",
     "output_type": "stream",
     "text": [
      "[2]\n"
     ]
    }
   ],
   "source": [
    "result = add_random_int(basket, my_dict)\n",
    "print(result)"
   ]
  },
  {
   "cell_type": "code",
   "execution_count": 6,
   "metadata": {},
   "outputs": [],
   "source": [
    "class Customer:\n",
    "    def __init__(self,location, basket, markov):\n",
    "        self.location = location\n",
    "        self.basket = basket\n",
    "        self.markov = markov\n",
    "    "
   ]
  },
  {
   "cell_type": "code",
   "execution_count": 7,
   "metadata": {},
   "outputs": [],
   "source": [
    "#I think I need aisle, the other 2 might be filler\n",
    "aisle = ['dairy', 'spices', 'fruit', 'drinks', 'checkout']\n",
    "profit = []"
   ]
  },
  {
   "attachments": {},
   "cell_type": "markdown",
   "metadata": {},
   "source": [
    "#this is all a guess, the aisle needs to interact with customer, and the revenue calcs are probably not that simple\n",
    "class Supermarket:\n",
    "    def __init__(self, aisle,basket_size, checkout_calc):\n",
    "        self.aisle = aisle\n",
    "        self.checkout_calc = checkout_calc\n",
    "        self.profit = profit\n",
    "        self.basket_size = basket_size\n",
    "        \n",
    "    my_rev = {'revenue': [], 'customer_num': []} \n",
    "    my_rev['revenue'].append()\n",
    "    my_rev['customer_num'].append()\n",
    "    total_revenue, num_individual_revenues = sum_list(revenue_list) #maybe this?\n",
    "    def checkout_calc(self):\n",
    "        revenue = sum(basket_size)#how does it call this from the actual customer no?\n",
    "        \n",
    "        profit = sum(basket_size) * 0.3\n",
    "        return total, len(basket_size)\n",
    "        revenue_total = #I actually don't even know what to call this. it needs to call all the revenues of all the customers\n",
    "        #maybe I have revenue go to a separate list to sum?\n",
    "            "
   ]
  },
  {
   "cell_type": "code",
   "execution_count": 9,
   "metadata": {},
   "outputs": [],
   "source": [
    "class Supermarket:\n",
    "    def __init__(self): \n",
    "        self.customer_id = 0\n",
    "        self.customer_list = []\n",
    "        self.revenue = 0\n",
    "        \n",
    "    def start_supermarket(self):\n",
    "        for timestep in range(900):\n",
    "            for _ in range(random.randint(0,3)): # this should be 5 right? 5 aisles counting checkout\n",
    "                customer = Customer(self.customer_id) \n",
    "                self.customer_list.append(customer) #I swear ong I will figure out how complete this function\n",
    "                self.customer_id += 1\n",
    "    \n",
    "            for customer in self.customer_list:\n",
    "                customer.move()\n",
    "        \n",
    "        for customer in self.customer_list:\n",
    "            self.revenue += sum(customer.basket)\n",
    "    \n",
    "\n",
    "\n"
   ]
  },
  {
   "cell_type": "code",
   "execution_count": null,
   "metadata": {},
   "outputs": [],
   "source": [
    "    \n",
    "#product_dictionaries\n",
    "dairy_products = {\"dairy_retail_price\": [2, 3, 5]}\n",
    "spice_products = {\"spice_retail_price\": [1, 2, 3]}\n",
    "fruit_products = {\"fruit_retail_price\": [1, 3, 6]}\n",
    "drink_products = {\"drink_retail_price\": [2, 5, 10]}\n",
    "    "
   ]
  },
  {
   "cell_type": "code",
   "execution_count": null,
   "metadata": {},
   "outputs": [],
   "source": []
  },
  {
   "cell_type": "code",
   "execution_count": null,
   "metadata": {},
   "outputs": [
    {
     "ename": "TypeError",
     "evalue": "Customer.__init__() missing 1 required positional argument: 'markov'",
     "output_type": "error",
     "traceback": [
      "\u001b[0;31m---------------------------------------------------------------------------\u001b[0m",
      "\u001b[0;31mTypeError\u001b[0m                                 Traceback (most recent call last)",
      "Cell \u001b[0;32mIn[44], line 17\u001b[0m\n\u001b[1;32m     15\u001b[0m \u001b[39mfor\u001b[39;00m timestep \u001b[39min\u001b[39;00m \u001b[39mrange\u001b[39m(\u001b[39m900\u001b[39m):\n\u001b[1;32m     16\u001b[0m     \u001b[39mfor\u001b[39;00m _ \u001b[39min\u001b[39;00m \u001b[39mrange\u001b[39m(num_customers):\n\u001b[0;32m---> 17\u001b[0m         customer \u001b[39m=\u001b[39m Customer(customer_id, [\u001b[39m0\u001b[39;49m])\n\u001b[1;32m     18\u001b[0m         list_customer\u001b[39m.\u001b[39mappend(customer)\n\u001b[1;32m     19\u001b[0m         customer_id \u001b[39m+\u001b[39m\u001b[39m=\u001b[39m \u001b[39m1\u001b[39m\n",
      "\u001b[0;31mTypeError\u001b[0m: Customer.__init__() missing 1 required positional argument: 'markov'"
     ]
    }
   ],
   "source": [
    "import random\n",
    "\n",
    "# Define the transition probabilities for the Markov chain\n",
    "transition_probabilities = {\n",
    "    0: [0.2, 0.8],  # Probability of transitioning from state 0 to states 0 and 1\n",
    "    1: [0.6, 0.4]   # Probability of transitioning from state 1 to states 0 and 1\n",
    "}\n",
    "\n",
    "# Define the initial state\n",
    "current_state = 0\n",
    "\n",
    "# Generate the number of customers using the Markov chain\n",
    "num_customers = random.randint(0, 5)\n",
    "\n",
    "for timestep in range(900):\n",
    "    for _ in range(num_customers):\n",
    "        customer = Customer(customer_id, [0])\n",
    "        list_customer.append(customer)\n",
    "        customer_id += 1\n",
    "\n",
    "    # Update the current state based on the Markov chain transition probabilities\n",
    "    probabilities = transition_probabilities[current_state]\n",
    "    current_state = random.choices([0, 1], probabilities)[0]\n",
    "\n",
    "    # Generate the number of customers for the next timestep using the updated state\n",
    "    num_customers = random.randint(0, 5)"
   ]
  },
  {
   "cell_type": "code",
   "execution_count": null,
   "metadata": {},
   "outputs": [
    {
     "name": "stdout",
     "output_type": "stream",
     "text": [
      "Requirement already satisfied: certifi in /Library/Frameworks/Python.framework/Versions/3.11/lib/python3.11/site-packages (2023.5.7)\n",
      "Note: you may need to restart the kernel to use updated packages.\n"
     ]
    }
   ],
   "source": []
  },
  {
   "cell_type": "code",
   "execution_count": 2,
   "metadata": {},
   "outputs": [
    {
     "data": {
      "image/png": "[encoded data removed]",
      "text/plain": [
       "<Figure size 640x480 with 1 Axes>"
      ]
     },
     "metadata": {},
     "output_type": "display_data"
    }
   ],
   "source": [
    "import matplotlib.pyplot as plt\n",
    "\n",
    "days = ['Monday', 'Tuesday', 'Wednesday', 'Thursday', 'Friday']\n",
    "enthusiasm = [5, 3, 2, 0, 0]\n",
    "\n",
    "plt.plot(days, enthusiasm, marker='o')\n",
    "plt.xlabel('Days of the Week')\n",
    "plt.ylabel('Enthusiasm Level')\n",
    "plt.title('Enthusiasm Levels from Monday to Friday')\n",
    "plt.grid(True)\n",
    "plt.show()\n"
   ]
  },
  {
   "cell_type": "code",
   "execution_count": null,
   "metadata": {},
   "outputs": [],
   "source": []
  }
 ],
 "metadata": {
  "kernelspec": {
   "display_name": "Python 3",
   "language": "python",
   "name": "python3"
  },
  "language_info": {
   "codemirror_mode": {
    "name": "ipython",
    "version": 3
   },
   "file_extension": ".py",
   "mimetype": "text/x-python",
   "name": "python",
   "nbconvert_exporter": "python",
   "pygments_lexer": "ipython3",
   "version": "3.11.2"
  },
  "orig_nbformat": 4
 },
 "nbformat": 4,
 "nbformat_minor": 2
}
